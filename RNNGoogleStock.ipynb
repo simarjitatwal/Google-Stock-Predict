{
 "cells": [
  {
   "cell_type": "code",
   "execution_count": 8,
   "metadata": {},
   "outputs": [],
   "source": [
    "import numpy as np\n",
    "import pandas as pd\n",
    "import matplotlib.pyplot as plt"
   ]
  },
  {
   "cell_type": "code",
   "execution_count": 9,
   "metadata": {},
   "outputs": [],
   "source": [
    "data=pd.read_csv(\"C:/Users/Atwal/Desktop/ml/Google_Stock_Price_Train.csv\")\n",
    "train_set=data.iloc[:, 1:2].values"
   ]
  },
  {
   "cell_type": "code",
   "execution_count": 12,
   "metadata": {},
   "outputs": [],
   "source": [
    "from sklearn.preprocessing import MinMaxScaler\n",
    "sc = MinMaxScaler(feature_range=(0,1))\n",
    "X_scaled= sc.fit_transform(train_set)"
   ]
  },
  {
   "cell_type": "code",
   "execution_count": 13,
   "metadata": {},
   "outputs": [],
   "source": [
    "#create a data structure with 60 timesteps and 1 output\n",
    "X_train=[]\n",
    "y_train=[]\n",
    "for i in range(60,1258):\n",
    "    X_train.append(X_scaled[i-60:i, 0])\n",
    "    y_train.append(X_scaled[i,0])\n",
    "\n",
    "X_train, y_train= np.array(X_train),np.array(y_train)    \n",
    "\n",
    "X_train = np.reshape(X_train,(X_train.shape[0],X_train.shape[1], 1))\n",
    "    "
   ]
  },
  {
   "cell_type": "code",
   "execution_count": 14,
   "metadata": {},
   "outputs": [
    {
     "name": "stderr",
     "output_type": "stream",
     "text": [
      "Using TensorFlow backend.\n"
     ]
    }
   ],
   "source": [
    "from keras.models import Sequential\n",
    "from keras.layers import Dense\n",
    "from keras.layers import LSTM\n",
    "from keras.layers import Dropout"
   ]
  },
  {
   "cell_type": "code",
   "execution_count": 15,
   "metadata": {},
   "outputs": [],
   "source": [
    "model = Sequential()"
   ]
  },
  {
   "cell_type": "code",
   "execution_count": 18,
   "metadata": {},
   "outputs": [
    {
     "name": "stdout",
     "output_type": "stream",
     "text": [
      "WARNING:tensorflow:From C:\\Users\\Atwal\\anaconda2\\envs\\tflow\\lib\\site-packages\\keras\\backend\\tensorflow_backend.py:3445: calling dropout (from tensorflow.python.ops.nn_ops) with keep_prob is deprecated and will be removed in a future version.\n",
      "Instructions for updating:\n",
      "Please use `rate` instead of `keep_prob`. Rate should be set to `rate = 1 - keep_prob`.\n"
     ]
    }
   ],
   "source": [
    "model.add(LSTM(units=50, return_sequences=True, input_shape=(X_train.shape[1],1)))\n",
    "model.add(Dropout(0.2))\n",
    "#fix for overtrain turn 20% neuron off"
   ]
  },
  {
   "cell_type": "code",
   "execution_count": 19,
   "metadata": {},
   "outputs": [],
   "source": [
    "model.add(LSTM(units=50, return_sequences=True))\n",
    "model.add(Dropout(0.2))"
   ]
  },
  {
   "cell_type": "code",
   "execution_count": 20,
   "metadata": {},
   "outputs": [],
   "source": [
    "model.add(LSTM(units=50, return_sequences=True))\n",
    "model.add(Dropout(0.2))"
   ]
  },
  {
   "cell_type": "code",
   "execution_count": 21,
   "metadata": {},
   "outputs": [],
   "source": [
    "model.add(LSTM(units=50))\n",
    "model.add(Dropout(0.2))"
   ]
  },
  {
   "cell_type": "code",
   "execution_count": 22,
   "metadata": {},
   "outputs": [],
   "source": [
    "#output layer\n",
    "model.add(Dense(units=1))"
   ]
  },
  {
   "cell_type": "code",
   "execution_count": 24,
   "metadata": {},
   "outputs": [],
   "source": [
    "model.compile(optimizer='adam',loss='mean_squared_error')"
   ]
  },
  {
   "cell_type": "code",
   "execution_count": 25,
   "metadata": {},
   "outputs": [
    {
     "name": "stdout",
     "output_type": "stream",
     "text": [
      "WARNING:tensorflow:From C:\\Users\\Atwal\\anaconda2\\envs\\tflow\\lib\\site-packages\\tensorflow\\python\\ops\\math_ops.py:3066: to_int32 (from tensorflow.python.ops.math_ops) is deprecated and will be removed in a future version.\n",
      "Instructions for updating:\n",
      "Use tf.cast instead.\n",
      "Epoch 1/100\n",
      "1198/1198 [==============================] - 80s 66ms/step - loss: 0.0611\n",
      "Epoch 2/100\n",
      "1198/1198 [==============================] - 43s 36ms/step - loss: 0.0070\n",
      "Epoch 3/100\n",
      "1198/1198 [==============================] - 40s 34ms/step - loss: 0.0062\n",
      "Epoch 4/100\n",
      "1198/1198 [==============================] - 40s 34ms/step - loss: 0.0054\n",
      "Epoch 5/100\n",
      "1198/1198 [==============================] - 41s 34ms/step - loss: 0.0054\n",
      "Epoch 6/100\n",
      "1198/1198 [==============================] - 38s 32ms/step - loss: 0.0048\n",
      "Epoch 9/100\n",
      "1198/1198 [==============================] - 38s 32ms/step - loss: 0.0073\n",
      "Epoch 10/100\n",
      "1198/1198 [==============================] - 38s 32ms/step - loss: 0.0048\n",
      "Epoch 11/100\n",
      "1198/1198 [==============================] - 40s 34ms/step - loss: 0.0040\n",
      "Epoch 12/100\n",
      "1198/1198 [==============================] - 39s 32ms/step - loss: 0.0041\n",
      "Epoch 13/100\n",
      "1198/1198 [==============================] - 44s 37ms/step - loss: 0.0044\n",
      "Epoch 14/100\n",
      "1198/1198 [==============================] - 43s 36ms/step - loss: 0.0041\n",
      "Epoch 15/100\n",
      "1198/1198 [==============================] - 40s 34ms/step - loss: 0.0042\n",
      "Epoch 16/100\n",
      "1198/1198 [==============================] - 41s 34ms/step - loss: 0.0038\n",
      "Epoch 17/100\n",
      "1198/1198 [==============================] - 38s 32ms/step - loss: 0.0050\n",
      "Epoch 18/100\n",
      "1198/1198 [==============================] - 44s 37ms/step - loss: 0.0035\n",
      "Epoch 19/100\n",
      "1198/1198 [==============================] - 45s 37ms/step - loss: 0.0037\n",
      "Epoch 20/100\n",
      "1198/1198 [==============================] - 41s 34ms/step - loss: 0.0039\n",
      "Epoch 21/100\n",
      "1198/1198 [==============================] - 51s 42ms/step - loss: 0.0037\n",
      "Epoch 22/100\n",
      "1198/1198 [==============================] - 45s 38ms/step - loss: 0.0038\n",
      "Epoch 23/100\n",
      "1198/1198 [==============================] - 44s 37ms/step - loss: 0.0035\n",
      "Epoch 24/100\n",
      "1198/1198 [==============================] - 45s 37ms/step - loss: 0.0033\n",
      "Epoch 25/100\n",
      "1198/1198 [==============================] - 43s 36ms/step - loss: 0.0032\n",
      "Epoch 26/100\n",
      "1198/1198 [==============================] - 45s 37ms/step - loss: 0.0033\n",
      "Epoch 27/100\n",
      "1198/1198 [==============================] - 47s 39ms/step - loss: 0.0034\n",
      "Epoch 28/100\n",
      "1198/1198 [==============================] - 46s 38ms/step - loss: 0.0035\n",
      "Epoch 29/100\n",
      "1198/1198 [==============================] - 46s 38ms/step - loss: 0.0030\n",
      "Epoch 30/100\n",
      "1198/1198 [==============================] - 46s 38ms/step - loss: 0.0031\n",
      "Epoch 31/100\n",
      "1198/1198 [==============================] - 44s 37ms/step - loss: 0.0030\n",
      "Epoch 32/100\n",
      "1198/1198 [==============================] - 44s 37ms/step - loss: 0.0035\n",
      "Epoch 33/100\n",
      "1198/1198 [==============================] - 44s 37ms/step - loss: 0.0031\n",
      "Epoch 34/100\n",
      "1198/1198 [==============================] - 41s 34ms/step - loss: 0.0030\n",
      "Epoch 35/100\n",
      "1198/1198 [==============================] - 41s 34ms/step - loss: 0.0031\n",
      "Epoch 36/100\n",
      "1198/1198 [==============================] - 41s 34ms/step - loss: 0.0028\n",
      "Epoch 37/100\n",
      "1198/1198 [==============================] - 45s 37ms/step - loss: 0.0031\n",
      "Epoch 38/100\n",
      "1198/1198 [==============================] - 45s 38ms/step - loss: 0.0027\n",
      "Epoch 39/100\n",
      "1198/1198 [==============================] - 43s 36ms/step - loss: 0.0029\n",
      "Epoch 40/100\n",
      "1198/1198 [==============================] - 42s 35ms/step - loss: 0.0029\n",
      "Epoch 41/100\n",
      "1198/1198 [==============================] - 50s 42ms/step - loss: 0.0029\n",
      "Epoch 42/100\n",
      "1198/1198 [==============================] - 46s 39ms/step - loss: 0.0027\n",
      "Epoch 43/100\n",
      "1198/1198 [==============================] - 45s 37ms/step - loss: 0.0032\n",
      "Epoch 44/100\n",
      "1198/1198 [==============================] - 45s 37ms/step - loss: 0.0029\n",
      "Epoch 45/100\n",
      "1198/1198 [==============================] - 47s 39ms/step - loss: 0.0026\n",
      "Epoch 46/100\n",
      "1198/1198 [==============================] - 46s 39ms/step - loss: 0.0025\n",
      "Epoch 47/100\n",
      "1198/1198 [==============================] - 43s 36ms/step - loss: 0.0025\n",
      "Epoch 48/100\n",
      "1198/1198 [==============================] - 45s 38ms/step - loss: 0.0023\n",
      "Epoch 49/100\n",
      "1198/1198 [==============================] - 41s 34ms/step - loss: 0.0024\n",
      "Epoch 50/100\n",
      "1198/1198 [==============================] - 44s 37ms/step - loss: 0.0024\n",
      "Epoch 51/100\n",
      "1198/1198 [==============================] - 45s 37ms/step - loss: 0.0022\n",
      "Epoch 52/100\n",
      "1198/1198 [==============================] - 42s 35ms/step - loss: 0.0024\n",
      "Epoch 53/100\n",
      "1198/1198 [==============================] - 42s 35ms/step - loss: 0.0026\n",
      "Epoch 54/100\n",
      "1198/1198 [==============================] - 41s 35ms/step - loss: 0.0026\n",
      "Epoch 55/100\n",
      "1198/1198 [==============================] - 41s 35ms/step - loss: 0.0023\n",
      "Epoch 56/100\n",
      "1198/1198 [==============================] - 41s 35ms/step - loss: 0.0021\n",
      "Epoch 57/100\n",
      "1198/1198 [==============================] - 41s 35ms/step - loss: 0.0027\n",
      "Epoch 58/100\n",
      "1198/1198 [==============================] - 42s 35ms/step - loss: 0.0024\n",
      "Epoch 59/100\n",
      "1198/1198 [==============================] - 53s 45ms/step - loss: 0.0022\n",
      "Epoch 60/100\n",
      "1198/1198 [==============================] - 44s 37ms/step - loss: 0.0023\n",
      "Epoch 61/100\n",
      "1198/1198 [==============================] - 42s 35ms/step - loss: 0.0020\n",
      "Epoch 62/100\n",
      "1198/1198 [==============================] - 44s 37ms/step - loss: 0.0025\n",
      "Epoch 63/100\n",
      "1198/1198 [==============================] - 42s 35ms/step - loss: 0.0021\n",
      "Epoch 64/100\n",
      "1198/1198 [==============================] - 43s 36ms/step - loss: 0.0022\n",
      "Epoch 65/100\n",
      "1198/1198 [==============================] - 42s 35ms/step - loss: 0.0019\n",
      "Epoch 66/100\n",
      "1198/1198 [==============================] - 42s 35ms/step - loss: 0.0019\n",
      "Epoch 67/100\n",
      "1198/1198 [==============================] - 42s 35ms/step - loss: 0.0018\n",
      "Epoch 68/100\n",
      "1198/1198 [==============================] - 42s 35ms/step - loss: 0.0018\n",
      "Epoch 69/100\n",
      "1198/1198 [==============================] - 44s 37ms/step - loss: 0.0019\n",
      "Epoch 70/100\n",
      "1198/1198 [==============================] - 47s 39ms/step - loss: 0.0023\n",
      "Epoch 71/100\n",
      "1198/1198 [==============================] - 42s 35ms/step - loss: 0.0019\n",
      "Epoch 72/100\n",
      "1198/1198 [==============================] - 42s 35ms/step - loss: 0.0019\n",
      "Epoch 73/100\n",
      "1198/1198 [==============================] - 42s 35ms/step - loss: 0.0017\n",
      "Epoch 74/100\n",
      "1198/1198 [==============================] - 42s 35ms/step - loss: 0.0018\n",
      "Epoch 75/100\n",
      "1198/1198 [==============================] - 42s 35ms/step - loss: 0.0019\n",
      "Epoch 76/100\n",
      "1198/1198 [==============================] - 42s 35ms/step - loss: 0.0019\n",
      "Epoch 77/100\n",
      "1198/1198 [==============================] - 42s 35ms/step - loss: 0.0018\n",
      "Epoch 78/100\n",
      "1198/1198 [==============================] - 42s 35ms/step - loss: 0.0017\n",
      "Epoch 79/100\n",
      "1198/1198 [==============================] - 42s 35ms/step - loss: 0.0018\n",
      "Epoch 80/100\n",
      "1198/1198 [==============================] - 42s 35ms/step - loss: 0.0016\n",
      "Epoch 81/100\n",
      "1198/1198 [==============================] - 50s 42ms/step - loss: 0.0016\n",
      "Epoch 82/100\n",
      "1198/1198 [==============================] - 43s 36ms/step - loss: 0.0016\n",
      "Epoch 83/100\n",
      "1198/1198 [==============================] - 42s 35ms/step - loss: 0.0016\n",
      "Epoch 84/100\n",
      "1198/1198 [==============================] - 42s 35ms/step - loss: 0.0017\n",
      "Epoch 85/100\n",
      "1198/1198 [==============================] - 42s 35ms/step - loss: 0.0015\n",
      "Epoch 86/100\n",
      "1198/1198 [==============================] - 42s 35ms/step - loss: 0.0017\n",
      "Epoch 87/100\n",
      "1198/1198 [==============================] - 42s 35ms/step - loss: 0.0015\n",
      "Epoch 88/100\n",
      "1198/1198 [==============================] - 42s 35ms/step - loss: 0.0015\n",
      "Epoch 89/100\n",
      "1198/1198 [==============================] - 42s 35ms/step - loss: 0.0015\n",
      "Epoch 90/100\n",
      "1198/1198 [==============================] - 42s 35ms/step - loss: 0.0015\n",
      "Epoch 91/100\n",
      "1198/1198 [==============================] - 44s 37ms/step - loss: 0.0016\n",
      "Epoch 92/100\n",
      "1198/1198 [==============================] - 42s 35ms/step - loss: 0.0017\n",
      "Epoch 93/100\n",
      "1198/1198 [==============================] - 48s 40ms/step - loss: 0.0015\n",
      "Epoch 94/100\n"
     ]
    },
    {
     "name": "stdout",
     "output_type": "stream",
     "text": [
      "1198/1198 [==============================] - 44s 37ms/step - loss: 0.0014\n",
      "Epoch 95/100\n",
      "1198/1198 [==============================] - 41s 34ms/step - loss: 0.0017\n",
      "Epoch 96/100\n",
      "1198/1198 [==============================] - 43s 36ms/step - loss: 0.0014\n",
      "Epoch 97/100\n",
      "1198/1198 [==============================] - 41s 34ms/step - loss: 0.0012\n",
      "Epoch 98/100\n",
      "1198/1198 [==============================] - 44s 37ms/step - loss: 0.0013\n",
      "Epoch 99/100\n",
      "1198/1198 [==============================] - 49s 41ms/step - loss: 0.0012\n",
      "Epoch 100/100\n",
      "1198/1198 [==============================] - 42s 35ms/step - loss: 0.0013\n"
     ]
    },
    {
     "data": {
      "text/plain": [
       "<keras.callbacks.History at 0x29bc9909ba8>"
      ]
     },
     "execution_count": 25,
     "metadata": {},
     "output_type": "execute_result"
    }
   ],
   "source": [
    "model.fit(X_train, y_train,epochs=100,batch_size=32)"
   ]
  },
  {
   "cell_type": "code",
   "execution_count": 26,
   "metadata": {},
   "outputs": [],
   "source": [
    "from keras.models import load_model\n",
    "model.save(\"GoogleStockPredict.h5\")\n"
   ]
  },
  {
   "cell_type": "code",
   "execution_count": 27,
   "metadata": {},
   "outputs": [],
   "source": [
    "data_test=pd.read_csv(\"C:/Users/Atwal/Desktop/ml/Google_Stock_Price_Test.csv\")\n",
    "real_stock_price = data_test.iloc[:,1:2].values"
   ]
  },
  {
   "cell_type": "code",
   "execution_count": 32,
   "metadata": {},
   "outputs": [],
   "source": [
    "data_total=pd.concat((data['Open'], data_test['Open']),axis=0)\n",
    "inputs = data_total[len(data_total)-len(data_test)-60:].values\n",
    "inputs = inputs.reshape(-1,1)\n",
    "inputs = sc.transform(inputs)\n",
    "X_test=[]\n",
    "for i in range(60,80):\n",
    "    X_test.append(inputs[i-60:i,0])\n",
    "X_test=np.array(X_test)\n",
    "X_test= np.reshape(X_test,(X_test.shape[0], X_test.shape[1],1))\n",
    "pred_stock=model.predict(X_test)\n",
    "pred_stock=sc.inverse_transform(pred_stock)\n"
   ]
  },
  {
   "cell_type": "code",
   "execution_count": 33,
   "metadata": {},
   "outputs": [
    {
     "data": {
      "text/plain": [
       "<matplotlib.legend.Legend at 0x29bd84cb780>"
      ]
     },
     "execution_count": 33,
     "metadata": {},
     "output_type": "execute_result"
    },
    {
     "data": {
      "image/png": "[encoded data removed]",
      "text/plain": [
       "<Figure size 432x288 with 1 Axes>"
      ]
     },
     "metadata": {
      "needs_background": "light"
     },
     "output_type": "display_data"
    }
   ],
   "source": [
    "plt.plot(real_stock_price,color='red',label='Real Google Stock Price')\n",
    "plt.plot(pred_stock,color='blue',label='Predicted Google Stock Price')\n",
    "plt.title('Google Stock Price Prediction')\n",
    "plt.xlabel('Time')\n",
    "plt.ylabel('Google Stock Price')\n",
    "plt.legend()"
   ]
  },
  {
   "cell_type": "code",
   "execution_count": null,
   "metadata": {},
   "outputs": [],
   "source": []
  }
 ],
 "metadata": {
  "kernelspec": {
   "display_name": "Python 3",
   "language": "python",
   "name": "python3"
  },
  "language_info": {
   "codemirror_mode": {
    "name": "ipython",
    "version": 3
   },
   "file_extension": ".py",
   "mimetype": "text/x-python",
   "name": "python",
   "nbconvert_exporter": "python",
   "pygments_lexer": "ipython3",
   "version": "3.7.3"
  }
 },
 "nbformat": 4,
 "nbformat_minor": 2
}
